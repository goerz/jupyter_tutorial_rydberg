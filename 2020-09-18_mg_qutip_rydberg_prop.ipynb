{
 "cells": [
  {
   "cell_type": "markdown",
   "metadata": {},
   "source": [
    "# Demonstration of a Rydberg gate"
   ]
  },
  {
   "cell_type": "code",
   "execution_count": 1,
   "metadata": {
    "ExecuteTime": {
     "end_time": "2020-09-18T21:09:36.266142Z",
     "start_time": "2020-09-18T21:09:35.283971Z"
    }
   },
   "outputs": [],
   "source": [
    "import numpy as np\n",
    "import matplotlib.pylab as plt"
   ]
  },
  {
   "cell_type": "code",
   "execution_count": 2,
   "metadata": {
    "ExecuteTime": {
     "end_time": "2020-09-18T21:09:52.235514Z",
     "start_time": "2020-09-18T21:09:50.828704Z"
    }
   },
   "outputs": [],
   "source": [
    "import qutip\n",
    "import krotov"
   ]
  },
  {
   "cell_type": "markdown",
   "metadata": {},
   "source": [
    "$\\newcommand{\\ket}[1]{\\vert #1 \\rangle}$"
   ]
  },
  {
   "cell_type": "markdown",
   "metadata": {},
   "source": [
    "This example follows Goerz et al. Phs. Rev A 90, 032229 (2014)"
   ]
  },
  {
   "cell_type": "markdown",
   "metadata": {},
   "source": [
    "## Rydberg atomic states"
   ]
  },
  {
   "cell_type": "markdown",
   "metadata": {},
   "source": [
    "The Hilbert space for a single atom consists of $\\ket{0}$, $\\ket{1}$, $\\ket{i}$, $\\ket{r}$"
   ]
  },
  {
   "cell_type": "code",
   "execution_count": 8,
   "metadata": {
    "ExecuteTime": {
     "end_time": "2020-09-18T21:15:07.581511Z",
     "start_time": "2020-09-18T21:15:07.574733Z"
    }
   },
   "outputs": [],
   "source": [
    "def ket(label):\n",
    "    \"\"\"Eigenstate of one or more Rydberg atoms.\"\"\"\n",
    "    levels = ['0', '1', 'i', 'r']\n",
    "    states = []\n",
    "    N = len(levels)\n",
    "    for label in str(label):\n",
    "        states.append(qutip.basis(N, levels.index(label)))\n",
    "    return qutip.tensor(*states)"
   ]
  },
  {
   "cell_type": "code",
   "execution_count": 82,
   "metadata": {
    "ExecuteTime": {
     "end_time": "2020-09-18T22:00:36.931638Z",
     "start_time": "2020-09-18T22:00:36.914795Z"
    }
   },
   "outputs": [
    {
     "data": {
      "text/latex": [
       "Quantum object: dims = [[4, 4, 4], [1, 1, 1]], shape = (64, 1), type = ket\\begin{equation*}\\left(\\begin{array}{*{11}c}1.0\\\\0.0\\\\0.0\\\\0.0\\\\0.0\\\\\\vdots\\\\0.0\\\\0.0\\\\0.0\\\\0.0\\\\0.0\\\\\\end{array}\\right)\\end{equation*}"
      ],
      "text/plain": [
       "Quantum object: dims = [[4, 4, 4], [1, 1, 1]], shape = (64, 1), type = ket\n",
       "Qobj data =\n",
       "[[1.]\n",
       " [0.]\n",
       " [0.]\n",
       " [0.]\n",
       " [0.]\n",
       " [0.]\n",
       " [0.]\n",
       " [0.]\n",
       " [0.]\n",
       " [0.]\n",
       " [0.]\n",
       " [0.]\n",
       " [0.]\n",
       " [0.]\n",
       " [0.]\n",
       " [0.]\n",
       " [0.]\n",
       " [0.]\n",
       " [0.]\n",
       " [0.]\n",
       " [0.]\n",
       " [0.]\n",
       " [0.]\n",
       " [0.]\n",
       " [0.]\n",
       " [0.]\n",
       " [0.]\n",
       " [0.]\n",
       " [0.]\n",
       " [0.]\n",
       " [0.]\n",
       " [0.]\n",
       " [0.]\n",
       " [0.]\n",
       " [0.]\n",
       " [0.]\n",
       " [0.]\n",
       " [0.]\n",
       " [0.]\n",
       " [0.]\n",
       " [0.]\n",
       " [0.]\n",
       " [0.]\n",
       " [0.]\n",
       " [0.]\n",
       " [0.]\n",
       " [0.]\n",
       " [0.]\n",
       " [0.]\n",
       " [0.]\n",
       " [0.]\n",
       " [0.]\n",
       " [0.]\n",
       " [0.]\n",
       " [0.]\n",
       " [0.]\n",
       " [0.]\n",
       " [0.]\n",
       " [0.]\n",
       " [0.]\n",
       " [0.]\n",
       " [0.]\n",
       " [0.]\n",
       " [0.]]"
      ]
     },
     "execution_count": 82,
     "metadata": {},
     "output_type": "execute_result"
    }
   ],
   "source": [
    "ket('000')"
   ]
  },
  {
   "cell_type": "markdown",
   "metadata": {},
   "source": [
    "## Hamiltonian"
   ]
  },
  {
   "cell_type": "code",
   "execution_count": 15,
   "metadata": {
    "ExecuteTime": {
     "end_time": "2020-09-18T21:17:35.827227Z",
     "start_time": "2020-09-18T21:17:35.818730Z"
    }
   },
   "outputs": [],
   "source": [
    "# ħ = 1\n",
    "GHz = 2 * np.pi\n",
    "ns = 1\n",
    "MHz = 1e-3 * GHz"
   ]
  },
  {
   "cell_type": "code",
   "execution_count": 16,
   "metadata": {
    "ExecuteTime": {
     "end_time": "2020-09-18T21:18:59.074401Z",
     "start_time": "2020-09-18T21:18:59.069130Z"
    }
   },
   "outputs": [],
   "source": [
    "def _H0_1q(E1, Δ1, Δ2):\n",
    "    return qutip.Qobj(np.diag([0, E1, Δ1, Δ2]))"
   ]
  },
  {
   "cell_type": "code",
   "execution_count": 17,
   "metadata": {
    "ExecuteTime": {
     "end_time": "2020-09-18T21:19:40.291757Z",
     "start_time": "2020-09-18T21:19:40.284809Z"
    }
   },
   "outputs": [],
   "source": [
    "H0_1q = _H0_1q(E1=(9.1 * GHz), Δ1=(1.273 * GHz), Δ2=0)"
   ]
  },
  {
   "cell_type": "code",
   "execution_count": 18,
   "metadata": {
    "ExecuteTime": {
     "end_time": "2020-09-18T21:20:03.407154Z",
     "start_time": "2020-09-18T21:20:03.397073Z"
    }
   },
   "outputs": [],
   "source": [
    "Id = qutip.identity(4)"
   ]
  },
  {
   "cell_type": "code",
   "execution_count": 19,
   "metadata": {
    "ExecuteTime": {
     "end_time": "2020-09-18T21:20:25.390156Z",
     "start_time": "2020-09-18T21:20:25.376767Z"
    }
   },
   "outputs": [],
   "source": [
    "def _H_int(u):\n",
    "    return u * ket('rr') * ket('rr').dag()"
   ]
  },
  {
   "cell_type": "code",
   "execution_count": 20,
   "metadata": {
    "ExecuteTime": {
     "end_time": "2020-09-18T21:20:49.740547Z",
     "start_time": "2020-09-18T21:20:49.733548Z"
    }
   },
   "outputs": [],
   "source": [
    "H_int = _H_int(57.26 * MHz)"
   ]
  },
  {
   "cell_type": "code",
   "execution_count": 21,
   "metadata": {
    "ExecuteTime": {
     "end_time": "2020-09-18T21:20:51.895894Z",
     "start_time": "2020-09-18T21:20:51.871331Z"
    }
   },
   "outputs": [
    {
     "data": {
      "text/latex": [
       "Quantum object: dims = [[4, 4], [4, 4]], shape = (16, 16), type = oper, isherm = True\\begin{equation*}\\left(\\begin{array}{*{11}c}0.0 & 0.0 & 0.0 & 0.0 & 0.0 & \\cdots & 0.0 & 0.0 & 0.0 & 0.0 & 0.0\\\\0.0 & 0.0 & 0.0 & 0.0 & 0.0 & \\cdots & 0.0 & 0.0 & 0.0 & 0.0 & 0.0\\\\0.0 & 0.0 & 0.0 & 0.0 & 0.0 & \\cdots & 0.0 & 0.0 & 0.0 & 0.0 & 0.0\\\\0.0 & 0.0 & 0.0 & 0.0 & 0.0 & \\cdots & 0.0 & 0.0 & 0.0 & 0.0 & 0.0\\\\0.0 & 0.0 & 0.0 & 0.0 & 0.0 & \\cdots & 0.0 & 0.0 & 0.0 & 0.0 & 0.0\\\\\\vdots & \\vdots & \\vdots & \\vdots & \\vdots & \\ddots & \\vdots & \\vdots & \\vdots & \\vdots & \\vdots\\\\0.0 & 0.0 & 0.0 & 0.0 & 0.0 & \\cdots & 0.0 & 0.0 & 0.0 & 0.0 & 0.0\\\\0.0 & 0.0 & 0.0 & 0.0 & 0.0 & \\cdots & 0.0 & 0.0 & 0.0 & 0.0 & 0.0\\\\0.0 & 0.0 & 0.0 & 0.0 & 0.0 & \\cdots & 0.0 & 0.0 & 0.0 & 0.0 & 0.0\\\\0.0 & 0.0 & 0.0 & 0.0 & 0.0 & \\cdots & 0.0 & 0.0 & 0.0 & 0.0 & 0.0\\\\0.0 & 0.0 & 0.0 & 0.0 & 0.0 & \\cdots & 0.0 & 0.0 & 0.0 & 0.0 & 0.360\\\\\\end{array}\\right)\\end{equation*}"
      ],
      "text/plain": [
       "Quantum object: dims = [[4, 4], [4, 4]], shape = (16, 16), type = oper, isherm = True\n",
       "Qobj data =\n",
       "[[0.         0.         0.         0.         0.         0.\n",
       "  0.         0.         0.         0.         0.         0.\n",
       "  0.         0.         0.         0.        ]\n",
       " [0.         0.         0.         0.         0.         0.\n",
       "  0.         0.         0.         0.         0.         0.\n",
       "  0.         0.         0.         0.        ]\n",
       " [0.         0.         0.         0.         0.         0.\n",
       "  0.         0.         0.         0.         0.         0.\n",
       "  0.         0.         0.         0.        ]\n",
       " [0.         0.         0.         0.         0.         0.\n",
       "  0.         0.         0.         0.         0.         0.\n",
       "  0.         0.         0.         0.        ]\n",
       " [0.         0.         0.         0.         0.         0.\n",
       "  0.         0.         0.         0.         0.         0.\n",
       "  0.         0.         0.         0.        ]\n",
       " [0.         0.         0.         0.         0.         0.\n",
       "  0.         0.         0.         0.         0.         0.\n",
       "  0.         0.         0.         0.        ]\n",
       " [0.         0.         0.         0.         0.         0.\n",
       "  0.         0.         0.         0.         0.         0.\n",
       "  0.         0.         0.         0.        ]\n",
       " [0.         0.         0.         0.         0.         0.\n",
       "  0.         0.         0.         0.         0.         0.\n",
       "  0.         0.         0.         0.        ]\n",
       " [0.         0.         0.         0.         0.         0.\n",
       "  0.         0.         0.         0.         0.         0.\n",
       "  0.         0.         0.         0.        ]\n",
       " [0.         0.         0.         0.         0.         0.\n",
       "  0.         0.         0.         0.         0.         0.\n",
       "  0.         0.         0.         0.        ]\n",
       " [0.         0.         0.         0.         0.         0.\n",
       "  0.         0.         0.         0.         0.         0.\n",
       "  0.         0.         0.         0.        ]\n",
       " [0.         0.         0.         0.         0.         0.\n",
       "  0.         0.         0.         0.         0.         0.\n",
       "  0.         0.         0.         0.        ]\n",
       " [0.         0.         0.         0.         0.         0.\n",
       "  0.         0.         0.         0.         0.         0.\n",
       "  0.         0.         0.         0.        ]\n",
       " [0.         0.         0.         0.         0.         0.\n",
       "  0.         0.         0.         0.         0.         0.\n",
       "  0.         0.         0.         0.        ]\n",
       " [0.         0.         0.         0.         0.         0.\n",
       "  0.         0.         0.         0.         0.         0.\n",
       "  0.         0.         0.         0.        ]\n",
       " [0.         0.         0.         0.         0.         0.\n",
       "  0.         0.         0.         0.         0.         0.\n",
       "  0.         0.         0.         0.35977519]]"
      ]
     },
     "execution_count": 21,
     "metadata": {},
     "output_type": "execute_result"
    }
   ],
   "source": [
    "H_int"
   ]
  },
  {
   "cell_type": "code",
   "execution_count": 22,
   "metadata": {
    "ExecuteTime": {
     "end_time": "2020-09-18T21:21:48.994699Z",
     "start_time": "2020-09-18T21:21:48.989708Z"
    }
   },
   "outputs": [],
   "source": [
    "H0 = qutip.tensor(H0_1q, Id) + qutip.tensor(Id, H0_1q) + H_int"
   ]
  },
  {
   "cell_type": "code",
   "execution_count": 83,
   "metadata": {
    "ExecuteTime": {
     "end_time": "2020-09-18T22:01:51.831408Z",
     "start_time": "2020-09-18T22:01:51.817810Z"
    }
   },
   "outputs": [],
   "source": [
    "H0_3atoms = qutip.tensor(H0_1q, Id, Id) + qutip.tensor(Id, H0_1q, Id) + qutip.tensor(H0_1q, Id, Id)"
   ]
  },
  {
   "cell_type": "code",
   "execution_count": 84,
   "metadata": {
    "ExecuteTime": {
     "end_time": "2020-09-18T22:02:06.714518Z",
     "start_time": "2020-09-18T22:02:06.699673Z"
    }
   },
   "outputs": [
    {
     "data": {
      "text/latex": [
       "Quantum object: dims = [[4, 4, 4], [4, 4, 4]], shape = (64, 64), type = oper, isherm = True\\begin{equation*}\\left(\\begin{array}{*{11}c}0.0 & 0.0 & 0.0 & 0.0 & 0.0 & \\cdots & 0.0 & 0.0 & 0.0 & 0.0 & 0.0\\\\0.0 & 0.0 & 0.0 & 0.0 & 0.0 & \\cdots & 0.0 & 0.0 & 0.0 & 0.0 & 0.0\\\\0.0 & 0.0 & 0.0 & 0.0 & 0.0 & \\cdots & 0.0 & 0.0 & 0.0 & 0.0 & 0.0\\\\0.0 & 0.0 & 0.0 & 0.0 & 0.0 & \\cdots & 0.0 & 0.0 & 0.0 & 0.0 & 0.0\\\\0.0 & 0.0 & 0.0 & 0.0 & 57.177 & \\cdots & 0.0 & 0.0 & 0.0 & 0.0 & 0.0\\\\\\vdots & \\vdots & \\vdots & \\vdots & \\vdots & \\ddots & \\vdots & \\vdots & \\vdots & \\vdots & \\vdots\\\\0.0 & 0.0 & 0.0 & 0.0 & 0.0 & \\cdots & 7.998 & 0.0 & 0.0 & 0.0 & 0.0\\\\0.0 & 0.0 & 0.0 & 0.0 & 0.0 & \\cdots & 0.0 & 0.0 & 0.0 & 0.0 & 0.0\\\\0.0 & 0.0 & 0.0 & 0.0 & 0.0 & \\cdots & 0.0 & 0.0 & 0.0 & 0.0 & 0.0\\\\0.0 & 0.0 & 0.0 & 0.0 & 0.0 & \\cdots & 0.0 & 0.0 & 0.0 & 0.0 & 0.0\\\\0.0 & 0.0 & 0.0 & 0.0 & 0.0 & \\cdots & 0.0 & 0.0 & 0.0 & 0.0 & 0.0\\\\\\end{array}\\right)\\end{equation*}"
      ],
      "text/plain": [
       "Quantum object: dims = [[4, 4, 4], [4, 4, 4]], shape = (64, 64), type = oper, isherm = True\n",
       "Qobj data =\n",
       "[[0. 0. 0. ... 0. 0. 0.]\n",
       " [0. 0. 0. ... 0. 0. 0.]\n",
       " [0. 0. 0. ... 0. 0. 0.]\n",
       " ...\n",
       " [0. 0. 0. ... 0. 0. 0.]\n",
       " [0. 0. 0. ... 0. 0. 0.]\n",
       " [0. 0. 0. ... 0. 0. 0.]]"
      ]
     },
     "execution_count": 84,
     "metadata": {},
     "output_type": "execute_result"
    }
   ],
   "source": [
    "H0_3atoms"
   ]
  },
  {
   "cell_type": "code",
   "execution_count": 23,
   "metadata": {
    "ExecuteTime": {
     "end_time": "2020-09-18T21:21:55.310691Z",
     "start_time": "2020-09-18T21:21:55.280638Z"
    }
   },
   "outputs": [
    {
     "data": {
      "text/latex": [
       "Quantum object: dims = [[4, 4], [4, 4]], shape = (16, 16), type = oper, isherm = True\\begin{equation*}\\left(\\begin{array}{*{11}c}0.0 & 0.0 & 0.0 & 0.0 & 0.0 & \\cdots & 0.0 & 0.0 & 0.0 & 0.0 & 0.0\\\\0.0 & 57.177 & 0.0 & 0.0 & 0.0 & \\cdots & 0.0 & 0.0 & 0.0 & 0.0 & 0.0\\\\0.0 & 0.0 & 7.998 & 0.0 & 0.0 & \\cdots & 0.0 & 0.0 & 0.0 & 0.0 & 0.0\\\\0.0 & 0.0 & 0.0 & 0.0 & 0.0 & \\cdots & 0.0 & 0.0 & 0.0 & 0.0 & 0.0\\\\0.0 & 0.0 & 0.0 & 0.0 & 57.177 & \\cdots & 0.0 & 0.0 & 0.0 & 0.0 & 0.0\\\\\\vdots & \\vdots & \\vdots & \\vdots & \\vdots & \\ddots & \\vdots & \\vdots & \\vdots & \\vdots & \\vdots\\\\0.0 & 0.0 & 0.0 & 0.0 & 0.0 & \\cdots & 7.998 & 0.0 & 0.0 & 0.0 & 0.0\\\\0.0 & 0.0 & 0.0 & 0.0 & 0.0 & \\cdots & 0.0 & 0.0 & 0.0 & 0.0 & 0.0\\\\0.0 & 0.0 & 0.0 & 0.0 & 0.0 & \\cdots & 0.0 & 0.0 & 57.177 & 0.0 & 0.0\\\\0.0 & 0.0 & 0.0 & 0.0 & 0.0 & \\cdots & 0.0 & 0.0 & 0.0 & 7.998 & 0.0\\\\0.0 & 0.0 & 0.0 & 0.0 & 0.0 & \\cdots & 0.0 & 0.0 & 0.0 & 0.0 & 0.360\\\\\\end{array}\\right)\\end{equation*}"
      ],
      "text/plain": [
       "Quantum object: dims = [[4, 4], [4, 4]], shape = (16, 16), type = oper, isherm = True\n",
       "Qobj data =\n",
       "[[  0.           0.           0.           0.           0.\n",
       "    0.           0.           0.           0.           0.\n",
       "    0.           0.           0.           0.           0.\n",
       "    0.        ]\n",
       " [  0.          57.1769863    0.           0.           0.\n",
       "    0.           0.           0.           0.           0.\n",
       "    0.           0.           0.           0.           0.\n",
       "    0.        ]\n",
       " [  0.           0.           7.9984949    0.           0.\n",
       "    0.           0.           0.           0.           0.\n",
       "    0.           0.           0.           0.           0.\n",
       "    0.        ]\n",
       " [  0.           0.           0.           0.           0.\n",
       "    0.           0.           0.           0.           0.\n",
       "    0.           0.           0.           0.           0.\n",
       "    0.        ]\n",
       " [  0.           0.           0.           0.          57.1769863\n",
       "    0.           0.           0.           0.           0.\n",
       "    0.           0.           0.           0.           0.\n",
       "    0.        ]\n",
       " [  0.           0.           0.           0.           0.\n",
       "  114.35397259   0.           0.           0.           0.\n",
       "    0.           0.           0.           0.           0.\n",
       "    0.        ]\n",
       " [  0.           0.           0.           0.           0.\n",
       "    0.          65.17548119   0.           0.           0.\n",
       "    0.           0.           0.           0.           0.\n",
       "    0.        ]\n",
       " [  0.           0.           0.           0.           0.\n",
       "    0.           0.          57.1769863    0.           0.\n",
       "    0.           0.           0.           0.           0.\n",
       "    0.        ]\n",
       " [  0.           0.           0.           0.           0.\n",
       "    0.           0.           0.           7.9984949    0.\n",
       "    0.           0.           0.           0.           0.\n",
       "    0.        ]\n",
       " [  0.           0.           0.           0.           0.\n",
       "    0.           0.           0.           0.          65.17548119\n",
       "    0.           0.           0.           0.           0.\n",
       "    0.        ]\n",
       " [  0.           0.           0.           0.           0.\n",
       "    0.           0.           0.           0.           0.\n",
       "   15.99698979   0.           0.           0.           0.\n",
       "    0.        ]\n",
       " [  0.           0.           0.           0.           0.\n",
       "    0.           0.           0.           0.           0.\n",
       "    0.           7.9984949    0.           0.           0.\n",
       "    0.        ]\n",
       " [  0.           0.           0.           0.           0.\n",
       "    0.           0.           0.           0.           0.\n",
       "    0.           0.           0.           0.           0.\n",
       "    0.        ]\n",
       " [  0.           0.           0.           0.           0.\n",
       "    0.           0.           0.           0.           0.\n",
       "    0.           0.           0.          57.1769863    0.\n",
       "    0.        ]\n",
       " [  0.           0.           0.           0.           0.\n",
       "    0.           0.           0.           0.           0.\n",
       "    0.           0.           0.           0.           7.9984949\n",
       "    0.        ]\n",
       " [  0.           0.           0.           0.           0.\n",
       "    0.           0.           0.           0.           0.\n",
       "    0.           0.           0.           0.           0.\n",
       "    0.35977519]]"
      ]
     },
     "execution_count": 23,
     "metadata": {},
     "output_type": "execute_result"
    }
   ],
   "source": [
    "H0"
   ]
  },
  {
   "cell_type": "code",
   "execution_count": 24,
   "metadata": {
    "ExecuteTime": {
     "end_time": "2020-09-18T21:24:11.620995Z",
     "start_time": "2020-09-18T21:24:11.610701Z"
    }
   },
   "outputs": [],
   "source": [
    "H_1B = ket('0') * ket('i').dag() + ket('i') * ket('0').dag()\n",
    "H_1R = ket('i') * ket('r').dag() + ket('r') * ket('i').dag()"
   ]
  },
  {
   "cell_type": "code",
   "execution_count": 25,
   "metadata": {
    "ExecuteTime": {
     "end_time": "2020-09-18T21:24:25.068281Z",
     "start_time": "2020-09-18T21:24:25.057265Z"
    }
   },
   "outputs": [],
   "source": [
    "H_B_left = qutip.tensor(H_1B, Id)\n",
    "H_B_right = qutip.tensor(Id, H_1B) \n",
    "H_R_left = qutip.tensor(H_1R, Id)\n",
    "H_R_right = qutip.tensor(Id, H_1R)"
   ]
  },
  {
   "cell_type": "code",
   "execution_count": 26,
   "metadata": {
    "ExecuteTime": {
     "end_time": "2020-09-18T21:24:50.041181Z",
     "start_time": "2020-09-18T21:24:46.479655Z"
    }
   },
   "outputs": [
    {
     "name": "stderr",
     "output_type": "stream",
     "text": [
      "/Users/goerz/Desktop/jupyter_tutorial_rydberg/.venv/lib/python3.8/site-packages/qutip/visualization.py:323: UserWarning: FixedFormatter should only be used together with FixedLocator\n",
      "  ax.set_xticklabels(xlabels)\n",
      "/Users/goerz/Desktop/jupyter_tutorial_rydberg/.venv/lib/python3.8/site-packages/qutip/visualization.py:331: UserWarning: FixedFormatter should only be used together with FixedLocator\n",
      "  ax.set_yticklabels(list(reversed(ylabels)))\n"
     ]
    },
    {
     "data": {
      "text/plain": [
       "(<Figure size 576x432 with 2 Axes>, <AxesSubplot:>)"
      ]
     },
     "execution_count": 26,
     "metadata": {},
     "output_type": "execute_result"
    },
    {
     "data": {
      "image/png": "[encoded data removed]",
      "text/plain": [
       "<Figure size 576x432 with 2 Axes>"
      ]
     },
     "metadata": {
      "needs_background": "light"
     },
     "output_type": "display_data"
    }
   ],
   "source": [
    "qutip.hinton(H_R_left)"
   ]
  },
  {
   "cell_type": "code",
   "execution_count": 27,
   "metadata": {
    "ExecuteTime": {
     "end_time": "2020-09-18T21:25:21.208169Z",
     "start_time": "2020-09-18T21:25:21.199064Z"
    }
   },
   "outputs": [],
   "source": [
    "T = 800 * ns"
   ]
  },
  {
   "cell_type": "code",
   "execution_count": 28,
   "metadata": {
    "ExecuteTime": {
     "end_time": "2020-09-18T21:25:35.788986Z",
     "start_time": "2020-09-18T21:25:35.781978Z"
    }
   },
   "outputs": [],
   "source": [
    "tlist = np.linspace(0, T, 1000)"
   ]
  },
  {
   "cell_type": "code",
   "execution_count": 30,
   "metadata": {
    "ExecuteTime": {
     "end_time": "2020-09-18T21:26:33.696589Z",
     "start_time": "2020-09-18T21:26:33.687823Z"
    }
   },
   "outputs": [],
   "source": [
    "def Ω_B_left(t, args):\n",
    "    E0 = 140 * MHz\n",
    "    return (\n",
    "        E0 * krotov.shapes.blackman(t, 0, 50) +\n",
    "        E0 * krotov.shapes.blackman(t, T-50, T)\n",
    "    )"
   ]
  },
  {
   "cell_type": "code",
   "execution_count": 34,
   "metadata": {
    "ExecuteTime": {
     "end_time": "2020-09-18T21:32:03.268667Z",
     "start_time": "2020-09-18T21:32:03.263718Z"
    }
   },
   "outputs": [],
   "source": [
    "def Ω_B_right(t, args):\n",
    "    E0 = 55 * MHz\n",
    "    return E0 * krotov.shapes.blackman(t, 0, T)"
   ]
  },
  {
   "cell_type": "code",
   "execution_count": 35,
   "metadata": {
    "ExecuteTime": {
     "end_time": "2020-09-18T21:32:20.173218Z",
     "start_time": "2020-09-18T21:32:20.168203Z"
    }
   },
   "outputs": [],
   "source": [
    "Ω_R_left = Ω_B_left\n",
    "Ω_R_right = Ω_B_right"
   ]
  },
  {
   "cell_type": "code",
   "execution_count": 31,
   "metadata": {
    "ExecuteTime": {
     "end_time": "2020-09-18T21:30:47.948869Z",
     "start_time": "2020-09-18T21:30:47.939937Z"
    }
   },
   "outputs": [],
   "source": [
    "def plot_pulse(func, tlist, args=None, unit='MHz'):\n",
    "    \"\"\"Generate plot of a time-dependent driving field.\"\"\"\n",
    "    fig, ax = plt.subplots()\n",
    "    vals = np.array([func(t, args) for t in tlist])\n",
    "    if unit == 'MHz':\n",
    "        vals /= MHz\n",
    "    elif unit == 'GHz':\n",
    "        vals /= GHz\n",
    "    else:\n",
    "        raise ValueError(\"Invalid unit\")\n",
    "    ax.plot(tlist, vals, label=func.__name__)\n",
    "    ax.set_xlabel('time (ns)')\n",
    "    ax.set_ylabel('amplitude (%s)' % unit)\n",
    "    ax.legend()\n",
    "    return fig, ax"
   ]
  },
  {
   "cell_type": "code",
   "execution_count": 32,
   "metadata": {
    "ExecuteTime": {
     "end_time": "2020-09-18T21:31:01.482489Z",
     "start_time": "2020-09-18T21:31:00.856857Z"
    }
   },
   "outputs": [
    {
     "data": {
      "image/png": "[encoded data removed]",
      "text/plain": [
       "<Figure size 432x288 with 1 Axes>"
      ]
     },
     "metadata": {
      "needs_background": "light"
     },
     "output_type": "display_data"
    }
   ],
   "source": [
    "plot_pulse(Ω_B_left, tlist);"
   ]
  },
  {
   "cell_type": "code",
   "execution_count": 36,
   "metadata": {
    "ExecuteTime": {
     "end_time": "2020-09-18T21:32:25.312609Z",
     "start_time": "2020-09-18T21:32:24.852063Z"
    }
   },
   "outputs": [
    {
     "data": {
      "image/png": "[encoded data removed]",
      "text/plain": [
       "<Figure size 432x288 with 1 Axes>"
      ]
     },
     "metadata": {
      "needs_background": "light"
     },
     "output_type": "display_data"
    }
   ],
   "source": [
    "plot_pulse(Ω_B_right, tlist);"
   ]
  },
  {
   "cell_type": "markdown",
   "metadata": {},
   "source": [
    "$\\hat{H} = \\hat{H}_0 + \\sum_i S_i(t) \\hat{H}_i$"
   ]
  },
  {
   "cell_type": "code",
   "execution_count": 37,
   "metadata": {
    "ExecuteTime": {
     "end_time": "2020-09-18T21:34:01.201052Z",
     "start_time": "2020-09-18T21:34:01.191331Z"
    }
   },
   "outputs": [],
   "source": [
    "H = [H0, [H_B_left, Ω_B_left], [H_B_right, Ω_B_right], [H_R_left, Ω_R_left], [H_R_right, Ω_R_left]]"
   ]
  },
  {
   "cell_type": "markdown",
   "metadata": {},
   "source": [
    "## Propagation"
   ]
  },
  {
   "cell_type": "code",
   "execution_count": 39,
   "metadata": {
    "ExecuteTime": {
     "end_time": "2020-09-18T21:36:33.840439Z",
     "start_time": "2020-09-18T21:35:51.664825Z"
    }
   },
   "outputs": [],
   "source": [
    "res = qutip.mesolve(H, ket('00'), tlist)"
   ]
  },
  {
   "cell_type": "code",
   "execution_count": 43,
   "metadata": {
    "ExecuteTime": {
     "end_time": "2020-09-18T21:38:25.568168Z",
     "start_time": "2020-09-18T21:38:25.560152Z"
    }
   },
   "outputs": [],
   "source": [
    "def amplitude(state, level):\n",
    "    return complex((ket(level).dag() * state).full())"
   ]
  },
  {
   "cell_type": "code",
   "execution_count": 44,
   "metadata": {
    "ExecuteTime": {
     "end_time": "2020-09-18T21:38:34.547484Z",
     "start_time": "2020-09-18T21:38:34.534280Z"
    }
   },
   "outputs": [],
   "source": [
    "def phase(state, level):\n",
    "    a = amplitude(state, level)\n",
    "    return np.angle(a)"
   ]
  },
  {
   "cell_type": "code",
   "execution_count": 45,
   "metadata": {
    "ExecuteTime": {
     "end_time": "2020-09-18T21:38:45.467147Z",
     "start_time": "2020-09-18T21:38:45.462653Z"
    }
   },
   "outputs": [],
   "source": [
    "def pop(state, level):\n",
    "    a = amplitude(state, level)\n",
    "    return abs(a)**2"
   ]
  },
  {
   "cell_type": "code",
   "execution_count": 46,
   "metadata": {
    "ExecuteTime": {
     "end_time": "2020-09-18T21:39:14.010307Z",
     "start_time": "2020-09-18T21:39:14.003027Z"
    }
   },
   "outputs": [],
   "source": [
    "def pops(res, level):\n",
    "    return np.array([pop(state, level) for state in res.states])"
   ]
  },
  {
   "cell_type": "code",
   "execution_count": 47,
   "metadata": {
    "ExecuteTime": {
     "end_time": "2020-09-18T21:39:21.922063Z",
     "start_time": "2020-09-18T21:39:21.912090Z"
    }
   },
   "outputs": [],
   "source": [
    "def phases(res, level):\n",
    "    return np.array([phase(state, level) for state in res.states])"
   ]
  },
  {
   "cell_type": "code",
   "execution_count": 57,
   "metadata": {
    "ExecuteTime": {
     "end_time": "2020-09-18T21:42:09.812404Z",
     "start_time": "2020-09-18T21:42:09.807393Z"
    }
   },
   "outputs": [],
   "source": [
    "def plot_pops(res, labels):\n",
    "    fig, ax = plt.subplots()\n",
    "    for label in labels:\n",
    "        ax.plot(res.times, pops(res, label), label=label)\n",
    "    ax.legend()\n",
    "    ax.set_xlabel('time (ns)')\n",
    "    ax.set_ylabel('population')\n",
    "    return fig, ax"
   ]
  },
  {
   "cell_type": "code",
   "execution_count": 58,
   "metadata": {
    "ExecuteTime": {
     "end_time": "2020-09-18T21:42:10.533583Z",
     "start_time": "2020-09-18T21:42:10.527022Z"
    }
   },
   "outputs": [],
   "source": [
    "%matplotlib widget"
   ]
  },
  {
   "cell_type": "code",
   "execution_count": 59,
   "metadata": {
    "ExecuteTime": {
     "end_time": "2020-09-18T21:42:13.622166Z",
     "start_time": "2020-09-18T21:42:11.352567Z"
    }
   },
   "outputs": [
    {
     "data": {
      "application/vnd.jupyter.widget-view+json": {
       "model_id": "c0944400e3da466d9202f7c6daae06a2",
       "version_major": 2,
       "version_minor": 0
      },
      "text/plain": [
       "Canvas(toolbar=Toolbar(toolitems=[('Home', 'Reset original view', 'home', 'home'), ('Back', 'Back to previous …"
      ]
     },
     "metadata": {},
     "output_type": "display_data"
    }
   ],
   "source": [
    "plot_pops(res, ['00', 'i0', 'r0']);"
   ]
  },
  {
   "cell_type": "code",
   "execution_count": 60,
   "metadata": {
    "ExecuteTime": {
     "end_time": "2020-09-18T21:43:03.709536Z",
     "start_time": "2020-09-18T21:43:03.703454Z"
    }
   },
   "outputs": [],
   "source": [
    "def plot_phases(res, labels):\n",
    "    fig, ax = plt.subplots()\n",
    "    for label in labels:\n",
    "        ϕ = phases(res, label) / np.pi\n",
    "        ax.plot(res.times, ϕ, label=label)\n",
    "    ax.legend()\n",
    "    ax.set_xlabel('time (ns)')\n",
    "    ax.set_ylabel('phase (π)')\n",
    "    return fig, ax"
   ]
  },
  {
   "cell_type": "code",
   "execution_count": 61,
   "metadata": {
    "ExecuteTime": {
     "end_time": "2020-09-18T21:43:19.099606Z",
     "start_time": "2020-09-18T21:43:15.031435Z"
    }
   },
   "outputs": [
    {
     "data": {
      "application/vnd.jupyter.widget-view+json": {
       "model_id": "403c4da0c8984670b05172fa69dc47f2",
       "version_major": 2,
       "version_minor": 0
      },
      "text/plain": [
       "Canvas(toolbar=Toolbar(toolitems=[('Home', 'Reset original view', 'home', 'home'), ('Back', 'Back to previous …"
      ]
     },
     "metadata": {},
     "output_type": "display_data"
    }
   ],
   "source": [
    "plot_phases(res, ['00', 'r0']);"
   ]
  },
  {
   "cell_type": "markdown",
   "metadata": {},
   "source": [
    "## Gate"
   ]
  },
  {
   "cell_type": "code",
   "execution_count": 62,
   "metadata": {
    "ExecuteTime": {
     "end_time": "2020-09-18T21:44:53.071567Z",
     "start_time": "2020-09-18T21:44:53.063423Z"
    }
   },
   "outputs": [],
   "source": [
    "def propagate(label, H, tlist):\n",
    "    \"\"\"Propagate the state (by label) and return the resulting state at T.\"\"\"\n",
    "    psi0 = ket(label)\n",
    "    return qutip.mesolve(H, psi0, tlist).states[-1]"
   ]
  },
  {
   "cell_type": "code",
   "execution_count": 63,
   "metadata": {
    "ExecuteTime": {
     "end_time": "2020-09-18T21:45:52.527299Z",
     "start_time": "2020-09-18T21:45:52.521309Z"
    }
   },
   "outputs": [],
   "source": [
    "krotov.parallelization.set_parallelization(use_loky=True)"
   ]
  },
  {
   "cell_type": "code",
   "execution_count": 64,
   "metadata": {
    "ExecuteTime": {
     "end_time": "2020-09-18T21:55:03.171610Z",
     "start_time": "2020-09-18T21:46:06.919463Z"
    }
   },
   "outputs": [
    {
     "name": "stdout",
     "output_type": "stream",
     "text": [
      "25.0%. Run time:  97.68s. Est. time left: 00:00:04:53\n",
      "50.0%. Run time: 324.57s. Est. time left: 00:00:05:24\n",
      "75.0%. Run time: 325.96s. Est. time left: 00:00:01:48\n",
      "100.0%. Run time: 536.01s. Est. time left: 00:00:00:00\n",
      "Total run time: 536.25s\n"
     ]
    }
   ],
   "source": [
    "prop_states = krotov.parallelization.parallel_map(\n",
    "    propagate, ['00', '01', '10', '11'], task_kwargs=dict(H=H, tlist=tlist),\n",
    "    progress_bar=True\n",
    ")"
   ]
  },
  {
   "cell_type": "code",
   "execution_count": 75,
   "metadata": {
    "ExecuteTime": {
     "end_time": "2020-09-18T21:56:06.707390Z",
     "start_time": "2020-09-18T21:56:06.703121Z"
    }
   },
   "outputs": [],
   "source": [
    "import pickle"
   ]
  },
  {
   "cell_type": "code",
   "execution_count": 77,
   "metadata": {
    "ExecuteTime": {
     "end_time": "2020-09-18T21:56:36.761823Z",
     "start_time": "2020-09-18T21:56:36.755807Z"
    }
   },
   "outputs": [],
   "source": [
    "with open(\"prop.dump\", \"wb\") as out_fh:\n",
    "    pickle.dump(prop_states, out_fh)"
   ]
  },
  {
   "cell_type": "code",
   "execution_count": 78,
   "metadata": {
    "ExecuteTime": {
     "end_time": "2020-09-18T21:57:31.912446Z",
     "start_time": "2020-09-18T21:57:31.903130Z"
    }
   },
   "outputs": [],
   "source": [
    "with open('prop.dump', 'rb') as in_fh:\n",
    "    xxx = pickle.load(in_fh)"
   ]
  },
  {
   "cell_type": "code",
   "execution_count": 65,
   "metadata": {
    "ExecuteTime": {
     "end_time": "2020-09-18T21:55:29.673864Z",
     "start_time": "2020-09-18T21:55:29.659024Z"
    }
   },
   "outputs": [],
   "source": [
    "basis_states = [ket(label) for label in ('00', '01', '10', '11')]"
   ]
  },
  {
   "cell_type": "code",
   "execution_count": 66,
   "metadata": {
    "ExecuteTime": {
     "end_time": "2020-09-18T21:55:30.319914Z",
     "start_time": "2020-09-18T21:55:30.311821Z"
    }
   },
   "outputs": [],
   "source": [
    "U = krotov.functionals.gate(basis_states, prop_states)"
   ]
  },
  {
   "cell_type": "code",
   "execution_count": 67,
   "metadata": {
    "ExecuteTime": {
     "end_time": "2020-09-18T21:55:30.863366Z",
     "start_time": "2020-09-18T21:55:30.844135Z"
    }
   },
   "outputs": [
    {
     "data": {
      "text/latex": [
       "Quantum object: dims = [[4, 4], [4, 4]], shape = (4, 4), type = oper, isherm = False\\begin{equation*}\\left(\\begin{array}{*{11}c}(-0.941-0.238j) & 0.0 & 0.0 & 0.0\\\\0.0 & (0.914-0.325j) & 0.0 & 0.0\\\\0.0 & 0.0 & (-0.950-0.311j) & 0.0\\\\0.0 & 0.0 & 0.0 & (0.984-0.177j)\\\\\\end{array}\\right)\\end{equation*}"
      ],
      "text/plain": [
       "Quantum object: dims = [[4, 4], [4, 4]], shape = (4, 4), type = oper, isherm = False\n",
       "Qobj data =\n",
       "[[-0.940723  -0.23842028j  0.        +0.j          0.        +0.j\n",
       "   0.        +0.j        ]\n",
       " [ 0.        +0.j          0.9144536 -0.32496193j  0.        +0.j\n",
       "   0.        +0.j        ]\n",
       " [ 0.        +0.j          0.        +0.j         -0.95024962-0.31148733j\n",
       "   0.        +0.j        ]\n",
       " [ 0.        +0.j          0.        +0.j          0.        +0.j\n",
       "   0.98417112-0.17722078j]]"
      ]
     },
     "execution_count": 67,
     "metadata": {},
     "output_type": "execute_result"
    }
   ],
   "source": [
    "U"
   ]
  },
  {
   "cell_type": "code",
   "execution_count": 68,
   "metadata": {
    "ExecuteTime": {
     "end_time": "2020-09-18T21:55:31.862672Z",
     "start_time": "2020-09-18T21:55:31.855970Z"
    }
   },
   "outputs": [],
   "source": [
    "def pop_loss(U):\n",
    "    \"\"\"Loss of population from the logical subspace.\"\"\"\n",
    "    return 1 - (U.dag() * U).tr() / 4.0"
   ]
  },
  {
   "cell_type": "code",
   "execution_count": 69,
   "metadata": {
    "ExecuteTime": {
     "end_time": "2020-09-18T21:55:32.429508Z",
     "start_time": "2020-09-18T21:55:32.417630Z"
    }
   },
   "outputs": [
    {
     "data": {
      "text/plain": [
       "0.02909291595114849"
      ]
     },
     "execution_count": 69,
     "metadata": {},
     "output_type": "execute_result"
    }
   ],
   "source": [
    "pop_loss(U)"
   ]
  },
  {
   "cell_type": "code",
   "execution_count": 70,
   "metadata": {
    "ExecuteTime": {
     "end_time": "2020-09-18T21:55:33.249196Z",
     "start_time": "2020-09-18T21:55:33.232819Z"
    }
   },
   "outputs": [],
   "source": [
    "def closest_unitary(U):\n",
    "    V, Σ, Wdag = np.linalg.svd(U.full())\n",
    "    return qutip.Qobj(V @ Wdag)"
   ]
  },
  {
   "cell_type": "code",
   "execution_count": 71,
   "metadata": {
    "ExecuteTime": {
     "end_time": "2020-09-18T21:55:34.012889Z",
     "start_time": "2020-09-18T21:55:33.998822Z"
    }
   },
   "outputs": [],
   "source": [
    "Uu = closest_unitary(U)"
   ]
  },
  {
   "cell_type": "code",
   "execution_count": 72,
   "metadata": {
    "ExecuteTime": {
     "end_time": "2020-09-18T21:55:34.646622Z",
     "start_time": "2020-09-18T21:55:34.634032Z"
    }
   },
   "outputs": [
    {
     "data": {
      "text/latex": [
       "Quantum object: dims = [[4], [4]], shape = (4, 4), type = oper, isherm = False\\begin{equation*}\\left(\\begin{array}{*{11}c}(-0.969-0.246j) & 0.0 & 0.0 & 0.0\\\\0.0 & (0.942-0.335j) & 0.0 & 0.0\\\\0.0 & 0.0 & (-0.950-0.311j) & 0.0\\\\0.0 & 0.0 & 0.0 & (0.984-0.177j)\\\\\\end{array}\\right)\\end{equation*}"
      ],
      "text/plain": [
       "Quantum object: dims = [[4], [4]], shape = (4, 4), type = oper, isherm = False\n",
       "Qobj data =\n",
       "[[-0.96935197-0.24567612j  0.        +0.j          0.        +0.j\n",
       "   0.        +0.j        ]\n",
       " [ 0.        +0.j          0.94227229-0.33484763j  0.        +0.j\n",
       "   0.        +0.j        ]\n",
       " [ 0.        +0.j          0.        +0.j         -0.95025024-0.31148753j\n",
       "   0.        +0.j        ]\n",
       " [ 0.        +0.j          0.        +0.j          0.        +0.j\n",
       "   0.98417112-0.17722078j]]"
      ]
     },
     "execution_count": 72,
     "metadata": {},
     "output_type": "execute_result"
    }
   ],
   "source": [
    "Uu"
   ]
  },
  {
   "cell_type": "code",
   "execution_count": 80,
   "metadata": {
    "ExecuteTime": {
     "end_time": "2020-09-18T21:58:06.389708Z",
     "start_time": "2020-09-18T21:58:06.375089Z"
    }
   },
   "outputs": [],
   "source": [
    "def diag_concurrence(U):\n",
    "    \"\"\"Calculate the concurrence for a diagonal unitary U.\"\"\"\n",
    "    ϕ00, ϕ01, ϕ10, ϕ11 = np.angle(np.diag(U.full()))\n",
    "    γ = ϕ00 - ϕ01 - ϕ10 + ϕ11\n",
    "    return np.abs(np.sin(γ/2))"
   ]
  },
  {
   "cell_type": "code",
   "execution_count": 81,
   "metadata": {
    "ExecuteTime": {
     "end_time": "2020-09-18T21:58:06.871691Z",
     "start_time": "2020-09-18T21:58:06.859012Z"
    }
   },
   "outputs": [
    {
     "data": {
      "text/plain": [
       "0.04735267861448225"
      ]
     },
     "execution_count": 81,
     "metadata": {},
     "output_type": "execute_result"
    }
   ],
   "source": [
    "diag_concurrence(Uu)"
   ]
  },
  {
   "cell_type": "code",
   "execution_count": null,
   "metadata": {},
   "outputs": [],
   "source": [
    "krotov.functionals.F_avg("
   ]
  }
 ],
 "metadata": {
  "hide_input": false,
  "kernelspec": {
   "display_name": "Python 3",
   "language": "python",
   "name": "python3"
  },
  "language_info": {
   "codemirror_mode": {
    "name": "ipython",
    "version": 3
   },
   "file_extension": ".py",
   "mimetype": "text/x-python",
   "name": "python",
   "nbconvert_exporter": "python",
   "pygments_lexer": "ipython3",
   "version": "3.8.5"
  },
  "toc": {
   "base_numbering": 1,
   "nav_menu": {},
   "number_sections": true,
   "sideBar": true,
   "skip_h1_title": false,
   "title_cell": "Table of Contents",
   "title_sidebar": "Contents",
   "toc_cell": false,
   "toc_position": {},
   "toc_section_display": true,
   "toc_window_display": false
  },
  "varInspector": {
   "cols": {
    "lenName": 16,
    "lenType": 16,
    "lenVar": 40
   },
   "kernels_config": {
    "python": {
     "delete_cmd_postfix": "",
     "delete_cmd_prefix": "del ",
     "library": "var_list.py",
     "varRefreshCmd": "print(var_dic_list())"
    },
    "r": {
     "delete_cmd_postfix": ") ",
     "delete_cmd_prefix": "rm(",
     "library": "var_list.r",
     "varRefreshCmd": "cat(var_dic_list()) "
    }
   },
   "types_to_exclude": [
    "module",
    "function",
    "builtin_function_or_method",
    "instance",
    "_Feature"
   ],
   "window_display": false
  }
 },
 "nbformat": 4,
 "nbformat_minor": 4
}
