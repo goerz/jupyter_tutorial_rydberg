{
 "cells": [
  {
   "cell_type": "markdown",
   "metadata": {},
   "source": [
    "# Krotov Optimization Setup"
   ]
  },
  {
   "cell_type": "markdown",
   "metadata": {},
   "source": [
    "This notebooks shows how to set up an optimization using the `krotov` python package. Make sure to read [its documentation](https://qucontrol.github.io/krotov/v1.2.0/index.html)."
   ]
  },
  {
   "cell_type": "code",
   "execution_count": 1,
   "metadata": {
    "ExecuteTime": {
     "end_time": "2020-09-19T17:02:27.754969Z",
     "start_time": "2020-09-19T17:02:27.616249Z"
    }
   },
   "outputs": [],
   "source": [
    "import numpy as np"
   ]
  },
  {
   "cell_type": "code",
   "execution_count": 2,
   "metadata": {
    "ExecuteTime": {
     "end_time": "2020-09-19T17:02:28.863106Z",
     "start_time": "2020-09-19T17:02:27.757283Z"
    }
   },
   "outputs": [],
   "source": [
    "import krotov"
   ]
  },
  {
   "cell_type": "code",
   "execution_count": 3,
   "metadata": {
    "ExecuteTime": {
     "end_time": "2020-09-19T17:02:28.869591Z",
     "start_time": "2020-09-19T17:02:28.865934Z"
    }
   },
   "outputs": [],
   "source": [
    "import qutip"
   ]
  },
  {
   "cell_type": "code",
   "execution_count": 4,
   "metadata": {
    "ExecuteTime": {
     "end_time": "2020-09-19T17:02:28.877939Z",
     "start_time": "2020-09-19T17:02:28.872691Z"
    }
   },
   "outputs": [],
   "source": [
    "from src.ham import ryd2_hamiltonian, ket"
   ]
  },
  {
   "cell_type": "markdown",
   "metadata": {},
   "source": [
    "# Defining the objectives"
   ]
  },
  {
   "cell_type": "code",
   "execution_count": 5,
   "metadata": {
    "ExecuteTime": {
     "end_time": "2020-09-19T17:02:28.885303Z",
     "start_time": "2020-09-19T17:02:28.880254Z"
    }
   },
   "outputs": [],
   "source": [
    "GHz = 2 * np.pi\n",
    "MHz = 1e-3 * GHz\n",
    "ns = 1"
   ]
  },
  {
   "cell_type": "code",
   "execution_count": 6,
   "metadata": {
    "ExecuteTime": {
     "end_time": "2020-09-19T17:02:28.893633Z",
     "start_time": "2020-09-19T17:02:28.887768Z"
    }
   },
   "outputs": [],
   "source": [
    "def Ω_B_left(t, args):\n",
    "    E0 = 140 * MHz\n",
    "    return (\n",
    "        E0 * krotov.shapes.blackman(t, 0, 50) +\n",
    "        E0 * krotov.shapes.blackman(t, T-50, T)\n",
    "    )\n",
    "\n",
    "def Ω_B_right(t, args):\n",
    "    E0 = 55 * MHz\n",
    "    return E0 * krotov.shapes.blackman(t, 0, T)\n",
    "\n",
    "Ω_R_left = Ω_B_left\n",
    "Ω_R_right = Ω_B_right"
   ]
  },
  {
   "cell_type": "code",
   "execution_count": 7,
   "metadata": {
    "ExecuteTime": {
     "end_time": "2020-09-19T17:02:28.907367Z",
     "start_time": "2020-09-19T17:02:28.896531Z"
    }
   },
   "outputs": [],
   "source": [
    "H = ryd2_hamiltonian(E1=(9.1 * GHz), Δ1=(1.273 * GHz), Δ2=0, u=(57.26 * MHz), Ω_B_left=Ω_B_left, Ω_B_right=Ω_B_right, Ω_R_left=Ω_R_left, Ω_R_right=Ω_R_right)"
   ]
  },
  {
   "cell_type": "code",
   "execution_count": 8,
   "metadata": {
    "ExecuteTime": {
     "end_time": "2020-09-19T17:02:28.916569Z",
     "start_time": "2020-09-19T17:02:28.911103Z"
    }
   },
   "outputs": [],
   "source": [
    "basis_states = [ket(label) for label in ('00', '01', '10', '11')]"
   ]
  },
  {
   "cell_type": "code",
   "execution_count": 9,
   "metadata": {
    "ExecuteTime": {
     "end_time": "2020-09-19T17:02:28.925756Z",
     "start_time": "2020-09-19T17:02:28.920606Z"
    }
   },
   "outputs": [],
   "source": [
    "cphase = qutip.qip.operations.cphase(np.pi)"
   ]
  },
  {
   "cell_type": "code",
   "execution_count": 10,
   "metadata": {
    "ExecuteTime": {
     "end_time": "2020-09-19T17:02:28.938296Z",
     "start_time": "2020-09-19T17:02:28.927991Z"
    }
   },
   "outputs": [
    {
     "data": {
      "text/latex": [
       "Quantum object: dims = [[2, 2], [2, 2]], shape = (4, 4), type = oper, isherm = True\\begin{equation*}\\left(\\begin{array}{*{11}c}1.0 & 0.0 & 0.0 & 0.0\\\\0.0 & 1.0 & 0.0 & 0.0\\\\0.0 & 0.0 & 1.0 & 0.0\\\\0.0 & 0.0 & 0.0 & -1.0\\\\\\end{array}\\right)\\end{equation*}"
      ],
      "text/plain": [
       "Quantum object: dims = [[2, 2], [2, 2]], shape = (4, 4), type = oper, isherm = True\n",
       "Qobj data =\n",
       "[[ 1.  0.  0.  0.]\n",
       " [ 0.  1.  0.  0.]\n",
       " [ 0.  0.  1.  0.]\n",
       " [ 0.  0.  0. -1.]]"
      ]
     },
     "execution_count": 10,
     "metadata": {},
     "output_type": "execute_result"
    }
   ],
   "source": [
    "cphase"
   ]
  },
  {
   "cell_type": "code",
   "execution_count": 11,
   "metadata": {
    "ExecuteTime": {
     "end_time": "2020-09-19T17:02:28.952744Z",
     "start_time": "2020-09-19T17:02:28.940359Z"
    }
   },
   "outputs": [],
   "source": [
    "objectives = krotov.gate_objectives(basis_states, cphase, H)"
   ]
  },
  {
   "cell_type": "code",
   "execution_count": 12,
   "metadata": {
    "ExecuteTime": {
     "end_time": "2020-09-19T17:02:28.961073Z",
     "start_time": "2020-09-19T17:02:28.954921Z"
    }
   },
   "outputs": [
    {
     "data": {
      "text/plain": [
       "[Objective[|Ψ₀(4⊗4)⟩ to |Ψ₀(4⊗4)⟩ via [H₀[4⊗4,4⊗4], [H₁[4⊗4,4⊗4], u₁(t)], [H₂[4⊗4,4⊗4], u₂(t)], [H₃[4⊗4,4⊗4], u₁(t)], [H₄[4⊗4,4⊗4], u₁(t)]]],\n",
       " Objective[|Ψ₁(4⊗4)⟩ to |Ψ₁(4⊗4)⟩ via [H₀[4⊗4,4⊗4], [H₁[4⊗4,4⊗4], u₁(t)], [H₂[4⊗4,4⊗4], u₂(t)], [H₃[4⊗4,4⊗4], u₁(t)], [H₄[4⊗4,4⊗4], u₁(t)]]],\n",
       " Objective[|Ψ₂(4⊗4)⟩ to |Ψ₂(4⊗4)⟩ via [H₀[4⊗4,4⊗4], [H₁[4⊗4,4⊗4], u₁(t)], [H₂[4⊗4,4⊗4], u₂(t)], [H₃[4⊗4,4⊗4], u₁(t)], [H₄[4⊗4,4⊗4], u₁(t)]]],\n",
       " Objective[|Ψ₃(4⊗4)⟩ to |Ψ₄(4⊗4)⟩ via [H₀[4⊗4,4⊗4], [H₁[4⊗4,4⊗4], u₁(t)], [H₂[4⊗4,4⊗4], u₂(t)], [H₃[4⊗4,4⊗4], u₁(t)], [H₄[4⊗4,4⊗4], u₁(t)]]]]"
      ]
     },
     "execution_count": 12,
     "metadata": {},
     "output_type": "execute_result"
    }
   ],
   "source": [
    "objectives"
   ]
  },
  {
   "cell_type": "code",
   "execution_count": 13,
   "metadata": {
    "ExecuteTime": {
     "end_time": "2020-09-19T17:02:28.967165Z",
     "start_time": "2020-09-19T17:02:28.963251Z"
    }
   },
   "outputs": [],
   "source": [
    "T = 800"
   ]
  },
  {
   "cell_type": "code",
   "execution_count": 14,
   "metadata": {
    "ExecuteTime": {
     "end_time": "2020-09-19T17:02:28.975623Z",
     "start_time": "2020-09-19T17:02:28.969803Z"
    }
   },
   "outputs": [],
   "source": [
    "tlist = np.linspace(0, T, 1000)"
   ]
  },
  {
   "cell_type": "code",
   "execution_count": 15,
   "metadata": {
    "ExecuteTime": {
     "end_time": "2020-09-19T17:02:53.480372Z",
     "start_time": "2020-09-19T17:02:28.978690Z"
    }
   },
   "outputs": [
    {
     "data": {
      "text/plain": [
       "Result object with sesolve data.\n",
       "--------------------------------\n",
       "states = True\n",
       "num_collapse = 0"
      ]
     },
     "execution_count": 15,
     "metadata": {},
     "output_type": "execute_result"
    }
   ],
   "source": [
    "objectives[0].mesolve(tlist)"
   ]
  },
  {
   "cell_type": "code",
   "execution_count": 16,
   "metadata": {
    "ExecuteTime": {
     "end_time": "2020-09-19T17:02:53.490304Z",
     "start_time": "2020-09-19T17:02:53.483235Z"
    }
   },
   "outputs": [],
   "source": [
    "def update_shape(t):\n",
    "    return krotov.shapes.flattop(t, 0, T, t_rise=0.1*T)"
   ]
  },
  {
   "cell_type": "code",
   "execution_count": 17,
   "metadata": {
    "ExecuteTime": {
     "end_time": "2020-09-19T17:02:53.503951Z",
     "start_time": "2020-09-19T17:02:53.495626Z"
    }
   },
   "outputs": [],
   "source": [
    "pulse_options = {\n",
    "    Ω_B_left: dict(lambda_a=1, update_shape=update_shape),\n",
    "    Ω_B_right: dict(lambda_a=1, update_shape=update_shape),\n",
    "}"
   ]
  },
  {
   "cell_type": "markdown",
   "metadata": {},
   "source": [
    "## Running the optimization"
   ]
  },
  {
   "cell_type": "markdown",
   "metadata": {},
   "source": [
    "This will run for a very long time ...."
   ]
  },
  {
   "cell_type": "code",
   "execution_count": null,
   "metadata": {
    "ExecuteTime": {
     "start_time": "2020-09-19T17:02:27.646Z"
    }
   },
   "outputs": [
    {
     "name": "stdout",
     "output_type": "stream",
     "text": [
      "iter.      J_T   ∑∫gₐ(t)dt          J       ΔJ_T         ΔJ  secs\n",
      "0     7.25e-01    0.00e+00   7.25e-01        n/a        n/a    22\n",
      "1     7.22e-01    2.34e-02   7.46e-01  -3.14e-03   2.03e-02    49 *\n",
      "2     7.20e-01    1.81e-02   7.38e-01  -2.67e-03   1.55e-02    51 *\n",
      "3     7.17e-01    1.67e-02   7.34e-01  -2.35e-03   1.43e-02    43 *\n"
     ]
    }
   ],
   "source": [
    "res_opt = krotov.optimize_pulses(\n",
    "    objectives,\n",
    "    pulse_options,\n",
    "    tlist,\n",
    "    propagator=krotov.propagators.expm,\n",
    "    chi_constructor=krotov.functionals.chis_sm,\n",
    "    info_hook=krotov.info_hooks.print_table(J_T=krotov.functionals.J_T_sm),\n",
    ")"
   ]
  }
 ],
 "metadata": {
  "hide_input": false,
  "kernelspec": {
   "display_name": "Python 3",
   "language": "python",
   "name": "python3"
  },
  "language_info": {
   "codemirror_mode": {
    "name": "ipython",
    "version": 3
   },
   "file_extension": ".py",
   "mimetype": "text/x-python",
   "name": "python",
   "nbconvert_exporter": "python",
   "pygments_lexer": "ipython3",
   "version": "3.8.5"
  },
  "toc": {
   "base_numbering": 1,
   "nav_menu": {},
   "number_sections": true,
   "sideBar": true,
   "skip_h1_title": false,
   "title_cell": "Table of Contents",
   "title_sidebar": "Contents",
   "toc_cell": false,
   "toc_position": {},
   "toc_section_display": true,
   "toc_window_display": false
  },
  "varInspector": {
   "cols": {
    "lenName": 16,
    "lenType": 16,
    "lenVar": 40
   },
   "kernels_config": {
    "python": {
     "delete_cmd_postfix": "",
     "delete_cmd_prefix": "del ",
     "library": "var_list.py",
     "varRefreshCmd": "print(var_dic_list())"
    },
    "r": {
     "delete_cmd_postfix": ") ",
     "delete_cmd_prefix": "rm(",
     "library": "var_list.r",
     "varRefreshCmd": "cat(var_dic_list()) "
    }
   },
   "types_to_exclude": [
    "module",
    "function",
    "builtin_function_or_method",
    "instance",
    "_Feature"
   ],
   "window_display": false
  }
 },
 "nbformat": 4,
 "nbformat_minor": 4
}
